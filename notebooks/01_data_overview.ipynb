{
 "cells": [
  {
   "cell_type": "code",
   "execution_count": 1,
   "id": "928faff8-7dfb-45e9-b202-d490711e7f47",
   "metadata": {
    "scrolled": true
   },
   "outputs": [
    {
     "name": "stdout",
     "output_type": "stream",
     "text": [
      "✅ Dataset carregado com 10000 linhas e 12 colunas.\n",
      "\n",
      "📋 Informações gerais:\n",
      "<class 'pandas.core.frame.DataFrame'>\n",
      "RangeIndex: 10000 entries, 0 to 9999\n",
      "Data columns (total 12 columns):\n",
      " #   Column       Non-Null Count  Dtype  \n",
      "---  ------       --------------  -----  \n",
      " 0   City         10000 non-null  object \n",
      " 1   Country      10000 non-null  object \n",
      " 2   Date         10000 non-null  object \n",
      " 3   PM2.5        10000 non-null  float64\n",
      " 4   PM10         10000 non-null  float64\n",
      " 5   NO2          10000 non-null  float64\n",
      " 6   SO2          10000 non-null  float64\n",
      " 7   CO           10000 non-null  float64\n",
      " 8   O3           10000 non-null  float64\n",
      " 9   Temperature  10000 non-null  float64\n",
      " 10  Humidity     10000 non-null  float64\n",
      " 11  Wind Speed   10000 non-null  float64\n",
      "dtypes: float64(9), object(3)\n",
      "memory usage: 937.6+ KB\n",
      "None\n",
      "\n",
      "🔍 Valores nulos por coluna:\n",
      "City           0\n",
      "Country        0\n",
      "Date           0\n",
      "PM2.5          0\n",
      "PM10           0\n",
      "NO2            0\n",
      "SO2            0\n",
      "CO             0\n",
      "O3             0\n",
      "Temperature    0\n",
      "Humidity       0\n",
      "Wind Speed     0\n",
      "dtype: int64\n",
      "\n",
      "🧾 Amostra de dados:\n",
      "             City   Country        Date   PM2.5    PM10    NO2    SO2    CO  \\\n",
      "0         Bangkok  Thailand  2023-03-19   86.57   25.19  99.88  30.63  4.46   \n",
      "1        Istanbul    Turkey  2023-02-16   50.63   97.39  48.14   8.71  3.40   \n",
      "2  Rio de Janeiro    Brazil  2023-11-13  130.21   57.22  98.51   9.92  0.12   \n",
      "3          Mumbai     India  2023-03-16  119.70  130.52  10.96  33.03  7.74   \n",
      "4           Paris    France  2023-04-04   55.20   36.62  76.85  21.85  2.00   \n",
      "\n",
      "       O3  Temperature  Humidity  Wind Speed  \n",
      "0   36.29        17.67     59.35       13.76  \n",
      "1  144.16         3.46     67.51        6.36  \n",
      "2  179.31        25.29     29.30       12.87  \n",
      "3   38.65        23.15     99.97        7.71  \n",
      "4   67.09        16.02     90.28       14.16  \n"
     ]
    }
   ],
   "source": [
    "# ---------------------------------------------------------\n",
    "# Overview do Dataset\n",
    "# ---------------------------------------------------------\n",
    "import pandas as pd\n",
    "\n",
    "RAW_PATH = \"../data/raw/global_air_quality.csv\"\n",
    "\n",
    "# 1️⃣ Carrega dataset\n",
    "df = pd.read_csv(RAW_PATH)\n",
    "print(f\"✅ Dataset carregado com {df.shape[0]} linhas e {df.shape[1]} colunas.\\n\")\n",
    "\n",
    "# 2️⃣ Estrutura e tipos\n",
    "print(\"📋 Informações gerais:\")\n",
    "print(df.info())\n",
    "\n",
    "# 3️⃣ Verifica valores ausentes\n",
    "print(\"\\n🔍 Valores nulos por coluna:\")\n",
    "print(df.isnull().sum())\n",
    "\n",
    "# 4️⃣ Amostra\n",
    "print(\"\\n🧾 Amostra de dados:\")\n",
    "print(df.head())\n"
   ]
  },
  {
   "cell_type": "code",
   "execution_count": null,
   "id": "062e438e-4d35-4f78-8d4c-8e0698d1190d",
   "metadata": {},
   "outputs": [],
   "source": []
  }
 ],
 "metadata": {
  "kernelspec": {
   "display_name": "Python 3 (ipykernel)",
   "language": "python",
   "name": "python3"
  },
  "language_info": {
   "codemirror_mode": {
    "name": "ipython",
    "version": 3
   },
   "file_extension": ".py",
   "mimetype": "text/x-python",
   "name": "python",
   "nbconvert_exporter": "python",
   "pygments_lexer": "ipython3",
   "version": "3.13.5"
  }
 },
 "nbformat": 4,
 "nbformat_minor": 5
}
