{
 "cells": [
  {
   "cell_type": "code",
   "execution_count": 1,
   "id": "81e2bf53-1323-4efa-aff9-8b26cbef80d2",
   "metadata": {},
   "outputs": [
    {
     "name": "stdout",
     "output_type": "stream",
     "text": [
      "📥 Dataset original: (10000, 12)\n",
      "🔁 Duplicatas removidas: 4797\n",
      "✅ Dados processados salvos em: ../data/processed/air_quality_clean.csv\n"
     ]
    }
   ],
   "source": [
    "# ---------------------------------------------------------\n",
    "# Limpeza e Feature Engineering\n",
    "# ---------------------------------------------------------\n",
    "import pandas as pd\n",
    "import numpy as np\n",
    "\n",
    "RAW_PATH = \"../data/raw/global_air_quality.csv\"\n",
    "OUTPUT_PATH = \"../data/processed/air_quality_clean.csv\"\n",
    "\n",
    "df = pd.read_csv(RAW_PATH)\n",
    "print(f\"📥 Dataset original: {df.shape}\")\n",
    "\n",
    "# Normalização\n",
    "df['City'] = df['City'].str.strip().str.title()\n",
    "df['Country'] = df['Country'].str.strip().str.title()\n",
    "df['Date'] = pd.to_datetime(df['Date'], errors='coerce')\n",
    "\n",
    "# Remove duplicatas\n",
    "dups = df.duplicated(subset=['City','Country','Date']).sum()\n",
    "df = df.drop_duplicates(subset=['City','Country','Date'])\n",
    "print(f\"🔁 Duplicatas removidas: {dups}\")\n",
    "\n",
    "# Remove outliers (IQR)\n",
    "num_cols = ['PM2.5','PM10','NO2','SO2','CO','O3','Temperature','Humidity','Wind Speed']\n",
    "Q1 = df[num_cols].quantile(0.25)\n",
    "Q3 = df[num_cols].quantile(0.75)\n",
    "IQR = Q3 - Q1\n",
    "df = df[~((df[num_cols] < (Q1 - 1.5 * IQR)) | (df[num_cols] > (Q3 + 1.5 * IQR))).any(axis=1)]\n",
    "\n",
    "# Novas features\n",
    "df['Year'] = df['Date'].dt.year\n",
    "df['Month'] = df['Date'].dt.month\n",
    "df['Pollution_Index'] = df[['PM2.5','PM10','NO2','SO2','CO','O3']].mean(axis=1)\n",
    "\n",
    "# Faixas de temperatura\n",
    "df['Temp_Bin'] = pd.cut(\n",
    "    df['Temperature'],\n",
    "    bins=[-15, 0, 10, 20, 30, 45],\n",
    "    labels=['Muito Frio','Frio','Ameno','Quente','Muito Quente']\n",
    ")\n",
    "\n",
    "# Salva\n",
    "df.to_csv(OUTPUT_PATH, index=False)\n",
    "print(f\"✅ Dados processados salvos em: {OUTPUT_PATH}\")\n"
   ]
  },
  {
   "cell_type": "code",
   "execution_count": null,
   "id": "e99b933f-25f8-4b51-aaa1-05d24686a50d",
   "metadata": {},
   "outputs": [],
   "source": []
  }
 ],
 "metadata": {
  "kernelspec": {
   "display_name": "Python 3 (ipykernel)",
   "language": "python",
   "name": "python3"
  },
  "language_info": {
   "codemirror_mode": {
    "name": "ipython",
    "version": 3
   },
   "file_extension": ".py",
   "mimetype": "text/x-python",
   "name": "python",
   "nbconvert_exporter": "python",
   "pygments_lexer": "ipython3",
   "version": "3.13.5"
  }
 },
 "nbformat": 4,
 "nbformat_minor": 5
}
