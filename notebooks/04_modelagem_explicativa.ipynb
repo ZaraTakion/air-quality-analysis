{
 "cells": [
  {
   "cell_type": "code",
   "execution_count": 2,
   "id": "33182c60-2f26-46f9-8b04-2a2601d5d9c0",
   "metadata": {},
   "outputs": [
    {
     "name": "stdout",
     "output_type": "stream",
     "text": [
      "✅ Dataset carregado: (5203, 16)\n",
      "                            OLS Regression Results                            \n",
      "==============================================================================\n",
      "Dep. Variable:        Pollution_Index   R-squared:                       0.002\n",
      "Model:                            OLS   Adj. R-squared:                 -0.001\n",
      "Method:                 Least Squares   F-statistic:                    0.5980\n",
      "Date:                Tue, 21 Oct 2025   Prob (F-statistic):              0.869\n",
      "Time:                        17:39:20   Log-Likelihood:                -21725.\n",
      "No. Observations:                5203   AIC:                         4.348e+04\n",
      "Df Residuals:                    5188   BIC:                         4.358e+04\n",
      "Df Model:                          14                                         \n",
      "Covariance Type:            nonrobust                                         \n",
      "===============================================================================\n",
      "                  coef    std err          t      P>|t|      [0.025      0.975]\n",
      "-------------------------------------------------------------------------------\n",
      "const          61.6187      1.017     60.588      0.000      59.625      63.612\n",
      "Temperature    -0.0120      0.015     -0.791      0.429      -0.042       0.018\n",
      "Humidity        0.0107      0.008      1.263      0.207      -0.006       0.027\n",
      "Wind Speed     -0.0272      0.039     -0.700      0.484      -0.103       0.049\n",
      "Month_2        -0.1784      1.078     -0.165      0.869      -2.292       1.935\n",
      "Month_3        -0.2362      1.080     -0.219      0.827      -2.354       1.882\n",
      "Month_4         0.9626      1.069      0.901      0.368      -1.132       3.058\n",
      "Month_5        -0.1493      1.076     -0.139      0.890      -2.260       1.961\n",
      "Month_6        -1.2146      1.065     -1.140      0.254      -3.302       0.873\n",
      "Month_7        -0.5445      1.078     -0.505      0.614      -2.658       1.569\n",
      "Month_8        -0.1933      1.079     -0.179      0.858      -2.309       1.923\n",
      "Month_9         0.1946      1.070      0.182      0.856      -1.903       2.292\n",
      "Month_10        0.4871      1.065      0.457      0.648      -1.602       2.576\n",
      "Month_11       -0.2906      1.077     -0.270      0.787      -2.403       1.822\n",
      "Month_12        0.2389      1.086      0.220      0.826      -1.891       2.369\n",
      "==============================================================================\n",
      "Omnibus:                       43.794   Durbin-Watson:                   2.001\n",
      "Prob(Omnibus):                  0.000   Jarque-Bera (JB):               29.138\n",
      "Skew:                          -0.001   Prob(JB):                     4.71e-07\n",
      "Kurtosis:                       2.633   Cond. No.                         796.\n",
      "==============================================================================\n",
      "\n",
      "Notes:\n",
      "[1] Standard Errors assume that the covariance matrix of the errors is correctly specified.\n",
      "\n",
      "🌳 Random Forest:\n",
      "R²: -0.082\n",
      "RMSE: 16.519\n"
     ]
    }
   ],
   "source": [
    "# ---------------------------------------------------------\n",
    "# Modelagem Explicativa\n",
    "# ---------------------------------------------------------\n",
    "import pandas as pd\n",
    "import numpy as np\n",
    "import statsmodels.api as sm\n",
    "from sklearn.model_selection import train_test_split\n",
    "from sklearn.ensemble import RandomForestRegressor\n",
    "from sklearn.metrics import r2_score, mean_squared_error\n",
    "\n",
    "df = pd.read_csv(\"../data/processed/air_quality_clean.csv\")\n",
    "print(f\"✅ Dataset carregado: {df.shape}\")\n",
    "\n",
    "# Variáveis\n",
    "X = df[['Temperature','Humidity','Wind Speed','Month']]\n",
    "y = df['Pollution_Index']\n",
    "\n",
    "X = pd.get_dummies(X, columns=['Month'], drop_first=True)\n",
    "\n",
    "# Regressão Linear\n",
    "X_const = sm.add_constant(X)\n",
    "model = sm.OLS(y, X_const.astype(float)).fit()\n",
    "print(model.summary())\n",
    "\n",
    "# Random Forest\n",
    "X_train, X_test, y_train, y_test = train_test_split(X, y, test_size=0.2, random_state=42)\n",
    "rf = RandomForestRegressor(n_estimators=200, random_state=42)\n",
    "rf.fit(X_train, y_train)\n",
    "y_pred = rf.predict(X_test)\n",
    "\n",
    "print(f\"\\n🌳 Random Forest:\")\n",
    "print(f\"R²: {r2_score(y_test, y_pred):.3f}\")\n",
    "print(f\"RMSE: {np.sqrt(mean_squared_error(y_test, y_pred)):.3f}\")\n"
   ]
  },
  {
   "cell_type": "code",
   "execution_count": null,
   "id": "9d851d37-6209-423f-b90c-edfc1c5d20f9",
   "metadata": {},
   "outputs": [],
   "source": []
  }
 ],
 "metadata": {
  "kernelspec": {
   "display_name": "Python 3 (ipykernel)",
   "language": "python",
   "name": "python3"
  },
  "language_info": {
   "codemirror_mode": {
    "name": "ipython",
    "version": 3
   },
   "file_extension": ".py",
   "mimetype": "text/x-python",
   "name": "python",
   "nbconvert_exporter": "python",
   "pygments_lexer": "ipython3",
   "version": "3.13.5"
  }
 },
 "nbformat": 4,
 "nbformat_minor": 5
}
